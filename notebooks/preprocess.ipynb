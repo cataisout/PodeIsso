{
 "cells": [
  {
   "cell_type": "markdown",
   "metadata": {},
   "source": [
    "### Extraindo tabelas do calendário acadêmico"
   ]
  },
  {
   "cell_type": "code",
   "execution_count": 7,
   "metadata": {},
   "outputs": [],
   "source": [
    "import fitz\n",
    "import regex as re\n",
    "import pandas as pd\n",
    "\n",
    "\n",
    "def read_pdf(pdf_path: str) -> str:\n",
    "    \"\"\"\n",
    "    Ler o contéudo de um PDF a partir do camindo até o arquivo\n",
    "\n",
    "    Args:\n",
    "        pdf_path (str): caminho até o arquivo\n",
    "    \n",
    "    Returns:\n",
    "        str: texto do PDF com as quebras da linha marcados com '\\n'\n",
    "    \"\"\"\n",
    "    doc = fitz.open(pdf_path)\n",
    "    text = \"\\n\".join([page.get_text() for page in doc])\n",
    "    return text\n",
    "\n",
    "pdf_path = \"../calendario_universitario.pdf\"\n",
    "full_content = read_pdf(pdf_path)"
   ]
  },
  {
   "cell_type": "code",
   "execution_count": null,
   "metadata": {},
   "outputs": [],
   "source": [
    "full_content"
   ]
  },
  {
   "cell_type": "code",
   "execution_count": 11,
   "metadata": {},
   "outputs": [],
   "source": [
    "def extract_from_text(text: str, start_point: str) -> str:\n",
    "    '''\n",
    "    Retorna um trecho do texto, o trecho é delimitado por um ponto inicial\n",
    "\n",
    "    Args:\n",
    "        text (str): texto alvo da extração\n",
    "        strat_point (str): palavra que delimita o ponto inicial da extração\n",
    "    \n",
    "    Returns:\n",
    "        str: Trecho a partir da delimitação\n",
    "    '''\n",
    "    pattern = rf\"{start_point}(.*)\"\n",
    "    res = re.search(pattern, text, re.DOTALL)\n",
    "    return res.group(0).strip() if res else \"Texto não encontrado\""
   ]
  },
  {
   "cell_type": "code",
   "execution_count": 39,
   "metadata": {},
   "outputs": [],
   "source": [
    "months_to_number = {\n",
    "    \"janeiro\": 1,\n",
    "    \"fevereiro\": 2,\n",
    "    \"março\": 3,\n",
    "    \"abril\": 4,\n",
    "    \"maio\": 5,\n",
    "    \"junho\": 6,\n",
    "    \"julho\": 7,\n",
    "    \"agosto\": 8,\n",
    "    \"setembro\": 9,\n",
    "    \"outubro\": 10,\n",
    "    \"novembro\": 11,\n",
    "    \"dezembro\": 12\n",
    "}\n",
    "\n",
    "number_to_month = {id: month for month, id in months_to_number.items()}"
   ]
  },
  {
   "cell_type": "code",
   "execution_count": null,
   "metadata": {},
   "outputs": [],
   "source": [
    "content = extract_from_text(full_content, \"JANEIRO/2024\")\n",
    "content"
   ]
  },
  {
   "cell_type": "code",
   "execution_count": null,
   "metadata": {},
   "outputs": [],
   "source": [
    "content = content.split('\\n')\n",
    "content"
   ]
  },
  {
   "cell_type": "code",
   "execution_count": null,
   "metadata": {},
   "outputs": [],
   "source": [
    "def extract_tables(content:list[str]) -> pd.DataFrame:\n",
    "    '''\n",
    "    Retorna Dataframe que representa todos os dados das tabelas do texto de entrada\n",
    "\n",
    "    Args:\n",
    "        content (list[str]): lista com as linhas do texto que queremos extrair as tabelas\n",
    "    \n",
    "    Returns:\n",
    "        DataFrame: Dataframe que representa os dados encontados nas tabelas\n",
    "            texto, dia, mês do prazo inicial, dia, mês do prazo final e ano\n",
    "    '''\n",
    "    cleaned_content = [c for c in content if c not in ['', 'A']]\n",
    "    \n",
    "    re_month_year = r'^\\b(?:JAN|FEV|MARÇ|ABR|MAI|JUN|JUL|AGO|SET|OUT|NOV|DEZ)[A-Z]*/\\d{4}\\b$'\n",
    "    re_bad_month_year = r'^\\b(?:JAN|FEV|MARÇ|ABR|MAI|JUN|JUL|AGO|SET|OUT|NOV|DEZ)[A-Z].*/(?:JAN|FEV|MARÇ|ABR|MAI|JUN|JUL|AGO|SET|OUT|NOV|DEZ)[A-Z].*'\n",
    "    re_just_day = r'^\\d{2}\\b$'\n",
    "    re_init_end_days = r'^\\b\\d{2} [a,e] \\d{2}\\b$'\n",
    "    re_init_end_days_diff_months = r'^\\b\\d{2} [a,e] \\d{2}\\b\\/\\d{2}\\b$'\n",
    "\n",
    "\n",
    "\n",
    "    month, year = None, None\n",
    "    initial_day, terminal_day = None, None\n",
    "    \n",
    "    text = []\n",
    "    days_init = []\n",
    "    days_term = []\n",
    "    months_init = []\n",
    "    months_term = []\n",
    "    years = []\n",
    "    \n",
    "    for word in cleaned_content:\n",
    "        matches_month = re.findall(re_month_year, word)\n",
    "        matches_bad_month = re.findall(re_bad_month_year, word)\n",
    "        matches_just_day = re.findall(re_just_day, word)\n",
    "        matches_inital_terminal_days = re.findall(re_init_end_days, word)\n",
    "        matches_inital_terminal_days_diff_months = re.findall(re_init_end_days_diff_months, word)\n",
    "        \n",
    "        if matches_month:\n",
    "            month, year = matches_month[0].split('/')\n",
    "            month = month.capitalize()\n",
    "        \n",
    "        elif matches_bad_month:\n",
    "            month, year = None, None\n",
    "        \n",
    "        else:\n",
    "            if month and year:\n",
    "                if matches_just_day:\n",
    "                    initial_day = matches_just_day[0]\n",
    "                    terminal_day = matches_just_day[0]\n",
    "                    text.append([])\n",
    "                    days_init.append(initial_day)\n",
    "                    days_term.append(terminal_day)\n",
    "                    months_init.append(month)\n",
    "                    months_term.append(month)\n",
    "                    years.append(year)\n",
    "\n",
    "                elif matches_inital_terminal_days:\n",
    "                    matche = matches_inital_terminal_days[0]\n",
    "                    dates = matche.split('a') if 'a' in matche else matche.split('e')\n",
    "                    initial_day, terminal_day  = dates[0].strip(), dates[1].strip()\n",
    "                    text.append([])\n",
    "                    days_init.append(initial_day)\n",
    "                    days_term.append(terminal_day)\n",
    "                    months_init.append(month)\n",
    "                    months_term.append(month)\n",
    "                    years.append(year)\n",
    "\n",
    "                elif matches_inital_terminal_days_diff_months:\n",
    "                    matche = matches_inital_terminal_days_diff_months[0]\n",
    "                    dates = matche.split('a') if 'a' in matche else matche.split('e')\n",
    "                    initial_day, terminal_day  = dates[0].strip(), dates[1].strip()\n",
    "                    text.append([])\n",
    "                    days_init.append(initial_day)\n",
    "                    days_term.append(terminal_day.split('/')[0])\n",
    "                    months_init.append(month)\n",
    "                    months_term.append(\n",
    "                        number_to_month[int(terminal_day.split('/')[-1])].capitalize()\n",
    "                    )\n",
    "                    years.append(year)\n",
    "                else:\n",
    "                    text[-1].append(word)\n",
    "\n",
    "    data =  dict(\n",
    "        text = text,\n",
    "        days_init = days_init,\n",
    "        days_term = days_term,\n",
    "        months_init = months_init,\n",
    "        months_term = months_term,\n",
    "        years = years,\n",
    "    )\n",
    "\n",
    "    tables_df = pd.DataFrame(data)\n",
    "    tables_df.text = tables_df.text.apply(lambda texts: ' '.join(texts))\n",
    "    \n",
    "    return tables_df \n",
    "                \n",
    "tables_df = extract_tables(content)\n",
    "tables_df"
   ]
  },
  {
   "cell_type": "code",
   "execution_count": 18,
   "metadata": {},
   "outputs": [],
   "source": [
    "tables_df.to_csv('calendar_data.csv', index=False)"
   ]
  },
  {
   "cell_type": "code",
   "execution_count": null,
   "metadata": {},
   "outputs": [],
   "source": [
    "'asdasd'[:-1]"
   ]
  },
  {
   "cell_type": "code",
   "execution_count": 55,
   "metadata": {},
   "outputs": [],
   "source": [
    "import pandas as pd\n",
    "tables_df = pd.read_csv('calendar_data.csv')\n",
    "\n",
    "def create_date(df_row : pd.DataFrame) -> str:\n",
    "    is_same_day =  df_row.days_init == df_row.days_term\n",
    "    is_same_month =  df_row.months_init == df_row.months_term\n",
    "\n",
    "    if is_same_day and is_same_month:\n",
    "        return f'em {df_row.days_init} de {df_row.months_init} de {df_row.years}.'\n",
    "\n",
    "    if not(is_same_day) and is_same_month:\n",
    "        return f'em {df_row.days_init}/{df_row.days_term} de {df_row.months_init} de {df_row.years}.'\n",
    "    \n",
    "    months_init = months_to_number[df_row.months_init.lower()]\n",
    "    months_term = months_to_number[df_row.months_term.lower()]\n",
    "\n",
    "    return f'em {df_row.days_init}/{months_init}/{df_row.years} à {df_row.days_term}/{months_term}/{df_row.years}.'\n",
    "\n",
    "def remove_dot(text:str) -> str:\n",
    "    return text[:-1] if text[-1] == '.' else text\n",
    "\n",
    "def reconstruct_text(df: pd.DataFrame) -> str:\n",
    "    '''\n",
    "    Utiliza os dados do DataFrame para gerar um texto, mas simples para o modelo fazer suas inferências\n",
    "\n",
    "    Args:\n",
    "        df (DataFrame): DataFrame com os dados das tabelas presentes no calendário acadêmico\n",
    "\n",
    "    Returns:\n",
    "        str: texto com os dados simplificados das tabelas\n",
    "    '''\n",
    "\n",
    "    return df.apply(lambda r: f'{remove_dot(r.text)}, {create_date(r)} ', axis=1).to_list()\n",
    "\n",
    "\n",
    "good_texts = reconstruct_text(tables_df)\n",
    "good_text = '\\n'.join(good_texts)"
   ]
  },
  {
   "cell_type": "code",
   "execution_count": null,
   "metadata": {},
   "outputs": [],
   "source": [
    "print(good_text)"
   ]
  },
  {
   "cell_type": "code",
   "execution_count": 57,
   "metadata": {},
   "outputs": [],
   "source": [
    "with open(\"cleaned_calendar.txt\", \"w\") as text_file:\n",
    "    text_file.write(good_text)"
   ]
  }
 ],
 "metadata": {
  "kernelspec": {
   "display_name": "base",
   "language": "python",
   "name": "python3"
  },
  "language_info": {
   "codemirror_mode": {
    "name": "ipython",
    "version": 3
   },
   "file_extension": ".py",
   "mimetype": "text/x-python",
   "name": "python",
   "nbconvert_exporter": "python",
   "pygments_lexer": "ipython3",
   "version": "3.10.9"
  }
 },
 "nbformat": 4,
 "nbformat_minor": 2
}
