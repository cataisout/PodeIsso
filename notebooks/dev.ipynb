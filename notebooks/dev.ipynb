{
 "cells": [
  {
   "cell_type": "code",
   "execution_count": 1,
   "metadata": {},
   "outputs": [],
   "source": [
    "import telebot\n",
    "import transformers\n",
    "from transformers import pipeline\n",
    "import fitz"
   ]
  },
  {
   "cell_type": "code",
   "execution_count": 3,
   "metadata": {},
   "outputs": [
    {
     "name": "stdout",
     "output_type": "stream",
     "text": [
      "Answer: '22 de abril a 21 de junho\n",
      "de 2024', score: 0.2084, start: 409, end: 442\n"
     ]
    }
   ],
   "source": [
    "# Abre o documento PDF\n",
    "doc = fitz.open('calendario_universitario.pdf')\n",
    "\n",
    "# Itera sobre cada página\n",
    "context = ''\n",
    "for page in doc:\n",
    "    # Extrai o texto por blocos, preservando melhor a formatação\n",
    "    blocks = page.get_text(\"blocks\")\n",
    "\n",
    "    for block in blocks:\n",
    "        if block[0] != 0:  # Filter out non-text blocks\n",
    "            context += block[4]\n",
    "\n",
    "model_name = 'pierreguillou/bert-base-cased-squad-v1.1-portuguese'\n",
    "nlp = pipeline(\"question-answering\", model=model_name)\n",
    "\n",
    "question = \"Quando será o cadastro de novos alunos em mobilidade nacional?\"\n",
    "\n",
    "result = nlp(question=question, context=context)\n",
    "\n",
    "print(f\"Answer: '{result['answer']}', score: {round(result['score'], 4)}, start: {result['start']}, end: {result['end']}\")"
   ]
  },
  {
   "cell_type": "code",
   "execution_count": 4,
   "metadata": {},
   "outputs": [],
   "source": [
    "bot = telebot.TeleBot(KEY_API)"
   ]
  },
  {
   "cell_type": "code",
   "execution_count": 5,
   "metadata": {},
   "outputs": [],
   "source": [
    "def check(message):\n",
    "    return True"
   ]
  },
  {
   "cell_type": "code",
   "execution_count": 6,
   "metadata": {},
   "outputs": [],
   "source": [
    "@bot.message_handler(commands=['start'])\n",
    "def say_hi(message):\n",
    "    bot.send_message(message.chat.id, f\"Olá, {message.from_user.first_name}\")"
   ]
  },
  {
   "cell_type": "code",
   "execution_count": 7,
   "metadata": {},
   "outputs": [],
   "source": [
    "@bot.message_handler(func=check)\n",
    "def respond(message):\n",
    "    result = nlp(question=message.text, context=context)\n",
    "    bot.reply_to(text=result['answer'], message=message)"
   ]
  },
  {
   "cell_type": "code",
   "execution_count": null,
   "metadata": {},
   "outputs": [],
   "source": [
    "bot.polling()"
   ]
  }
 ],
 "metadata": {
  "kernelspec": {
   "display_name": "base",
   "language": "python",
   "name": "python3"
  },
  "language_info": {
   "codemirror_mode": {
    "name": "ipython",
    "version": 3
   },
   "file_extension": ".py",
   "mimetype": "text/x-python",
   "name": "python",
   "nbconvert_exporter": "python",
   "pygments_lexer": "ipython3",
   "version": "3.10.9"
  }
 },
 "nbformat": 4,
 "nbformat_minor": 2
}
