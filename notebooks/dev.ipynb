{
 "cells": [
  {
   "cell_type": "code",
   "execution_count": 1,
   "metadata": {},
   "outputs": [],
   "source": [
    "import telebot\n",
    "import transformers\n",
    "from transformers import pipeline\n",
    "import os\n",
    "from dotenv import load_dotenv"
   ]
  },
  {
   "cell_type": "code",
   "execution_count": 2,
   "metadata": {},
   "outputs": [
    {
     "data": {
      "text/plain": [
       "True"
      ]
     },
     "execution_count": 2,
     "metadata": {},
     "output_type": "execute_result"
    }
   ],
   "source": [
    "load_dotenv()"
   ]
  },
  {
   "cell_type": "code",
   "execution_count": 3,
   "metadata": {},
   "outputs": [],
   "source": [
    "KEY_API = os.getenv('TELEKEY_API')"
   ]
  },
  {
   "cell_type": "code",
   "execution_count": 10,
   "metadata": {},
   "outputs": [],
   "source": [
    "f = open(\"cleaned_calendar.txt\", \"r\")\n",
    "context = f.read()"
   ]
  },
  {
   "cell_type": "code",
   "execution_count": 4,
   "metadata": {},
   "outputs": [
    {
     "name": "stderr",
     "output_type": "stream",
     "text": [
      "Device set to use cpu\n"
     ]
    },
    {
     "name": "stdout",
     "output_type": "stream",
     "text": [
      "Answer: '17 de Janeiro de 2024', score: 0.1549, start: 2722, end: 2743\n"
     ]
    }
   ],
   "source": [
    "f = open(\"cleaned_calendar.txt\", \"r\")\n",
    "context = f.read()\n",
    "\n",
    "model_name = 'pierreguillou/bert-base-cased-squad-v1.1-portuguese'\n",
    "nlp = pipeline(\"question-answering\", model=model_name)\n",
    "\n",
    "question = \"Quando será o cadastro de novos alunos em mobilidade nacional?\"\n",
    "\n",
    "result = nlp(question=question, context=context)\n",
    "\n",
    "print(f\"Answer: '{result['answer']}', score: {round(result['score'], 4)}, start: {result['start']}, end: {result['end']}\")"
   ]
  },
  {
   "cell_type": "code",
   "execution_count": 11,
   "metadata": {},
   "outputs": [
    {
     "data": {
      "text/plain": [
       "{'score': 0.9466086030006409,\n",
       " 'start': 1778,\n",
       " 'end': 1799,\n",
       " 'answer': '16 de Janeiro de 2024'}"
      ]
     },
     "execution_count": 11,
     "metadata": {},
     "output_type": "execute_result"
    }
   ],
   "source": [
    "question = \"Data limite para postagem do Relatório Final de Docência Assistida no SIGAA de 2024.2 pelos alunos de pós graduação?\"\n",
    "result = nlp(question=question, context=context)\n",
    "result"
   ]
  },
  {
   "cell_type": "code",
   "execution_count": 27,
   "metadata": {},
   "outputs": [
    {
     "data": {
      "text/plain": [
       "'16 de Janeiro de 2024 -> Data limite para postagem do Relatório Final de Docência Assistida no SIGAA de 2024.2 pelos alunos de pós-graduação.'"
      ]
     },
     "execution_count": 27,
     "metadata": {},
     "output_type": "execute_result"
    }
   ],
   "source": [
    "def get_answer_line(context, start_position):\n",
    "    lines = context.split('\\n')\n",
    "    count = 0\n",
    "\n",
    "    for line in lines:\n",
    "        if count + len(line) + 1 > start_position:\n",
    "            text = ', '.join(line.split(',')[:-1]) + '.'\n",
    "            return text\n",
    "        \n",
    "        count += len(line) + 1\n",
    "\n",
    "f\"{result['answer']} -> {get_answer_line(context, result['start'])}\""
   ]
  },
  {
   "cell_type": "code",
   "execution_count": 4,
   "metadata": {},
   "outputs": [],
   "source": [
    "bot = telebot.TeleBot(KEY_API)"
   ]
  },
  {
   "cell_type": "code",
   "execution_count": 5,
   "metadata": {},
   "outputs": [],
   "source": [
    "def check(message):\n",
    "    return True"
   ]
  },
  {
   "cell_type": "code",
   "execution_count": 6,
   "metadata": {},
   "outputs": [],
   "source": [
    "@bot.message_handler(commands=['start'])\n",
    "def say_hi(message):\n",
    "    bot.send_message(message.chat.id, f\"Olá, {message.from_user.first_name}\")"
   ]
  },
  {
   "cell_type": "code",
   "execution_count": 7,
   "metadata": {},
   "outputs": [],
   "source": [
    "@bot.message_handler(func=check)\n",
    "def respond(message):\n",
    "    result = nlp(question=message.text, context=context)\n",
    "    bot.reply_to(text=result['answer'], message=message)"
   ]
  },
  {
   "cell_type": "code",
   "execution_count": null,
   "metadata": {},
   "outputs": [],
   "source": [
    "bot.polling()"
   ]
  }
 ],
 "metadata": {
  "kernelspec": {
   "display_name": "base",
   "language": "python",
   "name": "python3"
  },
  "language_info": {
   "codemirror_mode": {
    "name": "ipython",
    "version": 3
   },
   "file_extension": ".py",
   "mimetype": "text/x-python",
   "name": "python",
   "nbconvert_exporter": "python",
   "pygments_lexer": "ipython3",
   "version": "3.10.9"
  }
 },
 "nbformat": 4,
 "nbformat_minor": 2
}
