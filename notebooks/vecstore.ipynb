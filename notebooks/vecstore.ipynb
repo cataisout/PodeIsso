{
 "cells": [
  {
   "cell_type": "code",
   "execution_count": 1,
   "metadata": {
    "colab": {
     "base_uri": "https://localhost:8080/"
    },
    "executionInfo": {
     "elapsed": 14560,
     "status": "ok",
     "timestamp": 1737259464817,
     "user": {
      "displayName": "Ana Catarina Gonçalves",
      "userId": "15280139643636798814"
     },
     "user_tz": 180
    },
    "id": "zgYHs6iPuxyw",
    "outputId": "ea84edea-5c1f-4700-8e37-f6d94dad218e"
   },
   "outputs": [
    {
     "name": "stdout",
     "output_type": "stream",
     "text": [
      "Collecting weaviate-client\n",
      "  Downloading weaviate_client-4.10.4-py3-none-any.whl.metadata (3.6 kB)\n",
      "Requirement already satisfied: httpx<0.29.0,>=0.26.0 in /usr/local/lib/python3.11/dist-packages (from weaviate-client) (0.28.1)\n",
      "Collecting validators==0.34.0 (from weaviate-client)\n",
      "  Downloading validators-0.34.0-py3-none-any.whl.metadata (3.8 kB)\n",
      "Collecting authlib<1.3.2,>=1.2.1 (from weaviate-client)\n",
      "  Downloading Authlib-1.3.1-py2.py3-none-any.whl.metadata (3.8 kB)\n",
      "Requirement already satisfied: pydantic<3.0.0,>=2.8.0 in /usr/local/lib/python3.11/dist-packages (from weaviate-client) (2.10.5)\n",
      "Requirement already satisfied: grpcio<2.0.0,>=1.66.2 in /usr/local/lib/python3.11/dist-packages (from weaviate-client) (1.69.0)\n",
      "Collecting grpcio-tools<2.0.0,>=1.66.2 (from weaviate-client)\n",
      "  Downloading grpcio_tools-1.69.0-cp311-cp311-manylinux_2_17_x86_64.manylinux2014_x86_64.whl.metadata (5.3 kB)\n",
      "Collecting grpcio-health-checking<2.0.0,>=1.66.2 (from weaviate-client)\n",
      "  Downloading grpcio_health_checking-1.69.0-py3-none-any.whl.metadata (1.1 kB)\n",
      "Requirement already satisfied: cryptography in /usr/local/lib/python3.11/dist-packages (from authlib<1.3.2,>=1.2.1->weaviate-client) (43.0.3)\n",
      "Collecting protobuf<6.0dev,>=5.26.1 (from grpcio-health-checking<2.0.0,>=1.66.2->weaviate-client)\n",
      "  Downloading protobuf-5.29.3-cp38-abi3-manylinux2014_x86_64.whl.metadata (592 bytes)\n",
      "Requirement already satisfied: setuptools in /usr/local/lib/python3.11/dist-packages (from grpcio-tools<2.0.0,>=1.66.2->weaviate-client) (75.1.0)\n",
      "Requirement already satisfied: anyio in /usr/local/lib/python3.11/dist-packages (from httpx<0.29.0,>=0.26.0->weaviate-client) (3.7.1)\n",
      "Requirement already satisfied: certifi in /usr/local/lib/python3.11/dist-packages (from httpx<0.29.0,>=0.26.0->weaviate-client) (2024.12.14)\n",
      "Requirement already satisfied: httpcore==1.* in /usr/local/lib/python3.11/dist-packages (from httpx<0.29.0,>=0.26.0->weaviate-client) (1.0.7)\n",
      "Requirement already satisfied: idna in /usr/local/lib/python3.11/dist-packages (from httpx<0.29.0,>=0.26.0->weaviate-client) (3.10)\n",
      "Requirement already satisfied: h11<0.15,>=0.13 in /usr/local/lib/python3.11/dist-packages (from httpcore==1.*->httpx<0.29.0,>=0.26.0->weaviate-client) (0.14.0)\n",
      "Requirement already satisfied: annotated-types>=0.6.0 in /usr/local/lib/python3.11/dist-packages (from pydantic<3.0.0,>=2.8.0->weaviate-client) (0.7.0)\n",
      "Requirement already satisfied: pydantic-core==2.27.2 in /usr/local/lib/python3.11/dist-packages (from pydantic<3.0.0,>=2.8.0->weaviate-client) (2.27.2)\n",
      "Requirement already satisfied: typing-extensions>=4.12.2 in /usr/local/lib/python3.11/dist-packages (from pydantic<3.0.0,>=2.8.0->weaviate-client) (4.12.2)\n",
      "Requirement already satisfied: sniffio>=1.1 in /usr/local/lib/python3.11/dist-packages (from anyio->httpx<0.29.0,>=0.26.0->weaviate-client) (1.3.1)\n",
      "Requirement already satisfied: cffi>=1.12 in /usr/local/lib/python3.11/dist-packages (from cryptography->authlib<1.3.2,>=1.2.1->weaviate-client) (1.17.1)\n",
      "Requirement already satisfied: pycparser in /usr/local/lib/python3.11/dist-packages (from cffi>=1.12->cryptography->authlib<1.3.2,>=1.2.1->weaviate-client) (2.22)\n",
      "Downloading weaviate_client-4.10.4-py3-none-any.whl (330 kB)\n",
      "\u001b[2K   \u001b[90m━━━━━━━━━━━━━━━━━━━━━━━━━━━━━━━━━━━━━━━━\u001b[0m \u001b[32m330.4/330.4 kB\u001b[0m \u001b[31m5.3 MB/s\u001b[0m eta \u001b[36m0:00:00\u001b[0m\n",
      "\u001b[?25hDownloading validators-0.34.0-py3-none-any.whl (43 kB)\n",
      "\u001b[2K   \u001b[90m━━━━━━━━━━━━━━━━━━━━━━━━━━━━━━━━━━━━━━━━\u001b[0m \u001b[32m43.5/43.5 kB\u001b[0m \u001b[31m2.6 MB/s\u001b[0m eta \u001b[36m0:00:00\u001b[0m\n",
      "\u001b[?25hDownloading Authlib-1.3.1-py2.py3-none-any.whl (223 kB)\n",
      "\u001b[2K   \u001b[90m━━━━━━━━━━━━━━━━━━━━━━━━━━━━━━━━━━━━━━━━\u001b[0m \u001b[32m223.8/223.8 kB\u001b[0m \u001b[31m12.0 MB/s\u001b[0m eta \u001b[36m0:00:00\u001b[0m\n",
      "\u001b[?25hDownloading grpcio_health_checking-1.69.0-py3-none-any.whl (18 kB)\n",
      "Downloading grpcio_tools-1.69.0-cp311-cp311-manylinux_2_17_x86_64.manylinux2014_x86_64.whl (2.5 MB)\n",
      "\u001b[2K   \u001b[90m━━━━━━━━━━━━━━━━━━━━━━━━━━━━━━━━━━━━━━━━\u001b[0m \u001b[32m2.5/2.5 MB\u001b[0m \u001b[31m35.5 MB/s\u001b[0m eta \u001b[36m0:00:00\u001b[0m\n",
      "\u001b[?25hDownloading protobuf-5.29.3-cp38-abi3-manylinux2014_x86_64.whl (319 kB)\n",
      "\u001b[2K   \u001b[90m━━━━━━━━━━━━━━━━━━━━━━━━━━━━━━━━━━━━━━━━\u001b[0m \u001b[32m319.7/319.7 kB\u001b[0m \u001b[31m15.4 MB/s\u001b[0m eta \u001b[36m0:00:00\u001b[0m\n",
      "\u001b[?25hInstalling collected packages: validators, protobuf, grpcio-tools, grpcio-health-checking, authlib, weaviate-client\n",
      "  Attempting uninstall: protobuf\n",
      "    Found existing installation: protobuf 4.25.5\n",
      "    Uninstalling protobuf-4.25.5:\n",
      "      Successfully uninstalled protobuf-4.25.5\n",
      "\u001b[31mERROR: pip's dependency resolver does not currently take into account all the packages that are installed. This behaviour is the source of the following dependency conflicts.\n",
      "tensorflow 2.17.1 requires protobuf!=4.21.0,!=4.21.1,!=4.21.2,!=4.21.3,!=4.21.4,!=4.21.5,<5.0.0dev,>=3.20.3, but you have protobuf 5.29.3 which is incompatible.\u001b[0m\u001b[31m\n",
      "\u001b[0mSuccessfully installed authlib-1.3.1 grpcio-health-checking-1.69.0 grpcio-tools-1.69.0 protobuf-5.29.3 validators-0.34.0 weaviate-client-4.10.4\n"
     ]
    }
   ],
   "source": [
    "#banco vetorial\n",
    "!pip install pinecone\n",
    "!pip install -qU langchain-pinecone\n",
    "\n",
    "\n",
    "#leitura e split\n",
    "!pip install langchain_community\n",
    "!pip install pypdf\n",
    "!pip install langchain_cor\n",
    "!pip install langchain"
   ]
  },
  {
   "cell_type": "markdown",
   "metadata": {
    "id": "fPhyjTANzmkS"
   },
   "source": [
    "### Lendo dados e criando splits"
   ]
  },
  {
   "cell_type": "code",
   "execution_count": 9,
   "metadata": {
    "colab": {
     "base_uri": "https://localhost:8080/"
    },
    "executionInfo": {
     "elapsed": 31731,
     "status": "ok",
     "timestamp": 1737260760057,
     "user": {
      "displayName": "Ana Catarina Gonçalves",
      "userId": "15280139643636798814"
     },
     "user_tz": 180
    },
    "id": "VrBDPcvVzpPu",
    "outputId": "ae9d7d66-da23-4efb-84bf-fb27ba7ab3fd"
   },
   "outputs": [
    {
     "name": "stdout",
     "output_type": "stream",
     "text": [
      "Mounted at /content/drive\n"
     ]
    }
   ],
   "source": [
    "from google.colab import drive\n",
    "drive.mount('/content/drive')"
   ]
  },
  {
   "cell_type": "code",
   "execution_count": 10,
   "metadata": {
    "executionInfo": {
     "elapsed": 402,
     "status": "ok",
     "timestamp": 1737260764629,
     "user": {
      "displayName": "Ana Catarina Gonçalves",
      "userId": "15280139643636798814"
     },
     "user_tz": 180
    },
    "id": "8LSHti_lz3nG"
   },
   "outputs": [],
   "source": [
    "reg_path = 'drive/MyDrive/PodeIsso/regulamento.pdf'\n"
   ]
  },
  {
   "cell_type": "code",
   "execution_count": 14,
   "metadata": {
    "executionInfo": {
     "elapsed": 7064,
     "status": "ok",
     "timestamp": 1737260852169,
     "user": {
      "displayName": "Ana Catarina Gonçalves",
      "userId": "15280139643636798814"
     },
     "user_tz": 180
    },
    "id": "315ZQAeuz6Cv"
   },
   "outputs": [],
   "source": [
    "from langchain_community.document_loaders import PyPDFLoader\n",
    "loader = PyPDFLoader(reg_path)\n",
    "data = loader.load()"
   ]
  },
  {
   "cell_type": "code",
   "execution_count": 16,
   "metadata": {
    "executionInfo": {
     "elapsed": 517,
     "status": "ok",
     "timestamp": 1737260879405,
     "user": {
      "displayName": "Ana Catarina Gonçalves",
      "userId": "15280139643636798814"
     },
     "user_tz": 180
    },
    "id": "5VNh8lwS0To-"
   },
   "outputs": [],
   "source": [
    "# removendo os \\n\n",
    "for doc in data:\n",
    "    doc.page_content = doc.page_content.replace(\"\\n\", \"\")"
   ]
  },
  {
   "cell_type": "code",
   "execution_count": 18,
   "metadata": {
    "executionInfo": {
     "elapsed": 415,
     "status": "ok",
     "timestamp": 1737260939414,
     "user": {
      "displayName": "Ana Catarina Gonçalves",
      "userId": "15280139643636798814"
     },
     "user_tz": 180
    },
    "id": "eAMvssfy0WQi"
   },
   "outputs": [],
   "source": [
    "#jutando os documentos em um único documento\n",
    "\n",
    "from langchain_core.documents.base import Document\n",
    "\n",
    "merged_content = \" \".join([doc.page_content for doc in data])\n",
    "full_document = Document(page_content=merged_content)\n"
   ]
  },
  {
   "cell_type": "code",
   "execution_count": 20,
   "metadata": {
    "executionInfo": {
     "elapsed": 837,
     "status": "ok",
     "timestamp": 1737260999709,
     "user": {
      "displayName": "Ana Catarina Gonçalves",
      "userId": "15280139643636798814"
     },
     "user_tz": 180
    },
    "id": "N3ixivw30qEv"
   },
   "outputs": [],
   "source": [
    "#criando splits\n",
    "\n",
    "import re\n",
    "from langchain.text_splitter import TextSplitter\n",
    "\n",
    "\n",
    "class RegulationTextSplitter(TextSplitter):\n",
    "    def __init__(self, chunk_size=1000, chunk_overlap=0):\n",
    "        super().__init__(chunk_size, chunk_overlap)\n",
    "        self.chunk_size = chunk_size\n",
    "\n",
    "    def split_text(self, text):\n",
    "        # Regex ajustada para identificar artigos nos formatos \"Art. 9º\" e \"Art. 10.\"\n",
    "        article_pattern = re.compile(r\"(Art\\. \\d+[ºo]?.*?)(?=Art\\. \\d+[ºo]?|$)\", re.DOTALL)\n",
    "\n",
    "        # Encontra todos os artigos e seus textos completos\n",
    "        articles = article_pattern.findall(text)\n",
    "\n",
    "        # Agrupar artigos em chunks respeitando o chunk_size\n",
    "        chunks = []\n",
    "        current_chunk = []\n",
    "        current_size = 0\n",
    "\n",
    "        for article in articles:\n",
    "            article_size = len(article)\n",
    "            # Extrair o título do artigo (primeira linha)\n",
    "            article_title_match = re.match(r\"(Art\\. \\d+[ºo]?)\", article)\n",
    "            article_title = article_title_match.group(1) if article_title_match else \"\"\n",
    "\n",
    "            # Caso o artigo inteiro seja maior que o chunk_size\n",
    "            if article_size > self.chunk_size:\n",
    "                # Dividir o artigo em pedaços menores\n",
    "                split_article = [article[i:i + self.chunk_size] for i in range(0, article_size, self.chunk_size)]\n",
    "\n",
    "                # Marcar os pedaços subsequentes com o título do artigo\n",
    "                split_article = [\n",
    "                    (chunk if idx == 0 else f\"{article_title} - Continuation: {chunk}\")\n",
    "                    for idx, chunk in enumerate(split_article)\n",
    "                ]\n",
    "\n",
    "                # Adicionar pedaços menores ao chunk atual ou diretamente aos chunks\n",
    "                if current_chunk:  # Salvar o chunk atual se existir\n",
    "                    chunks.append(\" \".join(current_chunk))\n",
    "                    current_chunk = []\n",
    "                    current_size = 0\n",
    "                chunks.extend(split_article)  # Adicionar pedaços do artigo diretamente\n",
    "                continue\n",
    "\n",
    "            # Se adicionar o artigo atual excede o chunk_size, finalizar o chunk atual\n",
    "            if current_size + article_size > self.chunk_size:\n",
    "                if current_chunk:  # Se houver artigos acumulados, criar o chunk\n",
    "                    chunks.append(\" \".join(current_chunk))\n",
    "                # Reiniciar para o próximo chunk\n",
    "                current_chunk = [article]\n",
    "                current_size = article_size\n",
    "            else:\n",
    "                # Adicionar artigo ao chunk atual\n",
    "                current_chunk.append(article)\n",
    "                current_size += article_size\n",
    "\n",
    "        # Adicionar o último chunk, se houver\n",
    "        if current_chunk:\n",
    "            chunks.append(\" \".join(current_chunk))\n",
    "\n",
    "        return chunks\n",
    "\n",
    "# Exemplo de uso\n",
    "splitter = RegulationTextSplitter(chunk_size=1000, chunk_overlap=0)\n",
    "chunks = splitter.split_text(full_document.page_content)\n"
   ]
  },
  {
   "cell_type": "markdown",
   "metadata": {
    "id": "b1f7mZQIzqa2"
   },
   "source": [
    "### Alimentando banco"
   ]
  },
  {
   "cell_type": "code",
   "execution_count": 78,
   "metadata": {
    "executionInfo": {
     "elapsed": 613,
     "status": "ok",
     "timestamp": 1737264341291,
     "user": {
      "displayName": "Ana Catarina Gonçalves",
      "userId": "15280139643636798814"
     },
     "user_tz": 180
    },
    "id": "bFGFoSn-BKrh"
   },
   "outputs": [],
   "source": [
    "from langchain_pinecone import PineconeEmbeddings\n",
    "import os\n",
    "\n",
    "pinecone_api_key = os.environ[\"PINECONE_API_KEY\"]\n",
    "\n",
    "model_name = 'multilingual-e5-large'\n",
    "embeddings = PineconeEmbeddings(\n",
    "    model=model_name,\n",
    "    pinecone_api_key=os.environ.get('PINECONE_API_KEY')\n",
    ")\n"
   ]
  },
  {
   "cell_type": "code",
   "execution_count": 79,
   "metadata": {
    "executionInfo": {
     "elapsed": 1739,
     "status": "ok",
     "timestamp": 1737264377701,
     "user": {
      "displayName": "Ana Catarina Gonçalves",
      "userId": "15280139643636798814"
     },
     "user_tz": 180
    },
    "id": "bGp_34ekA5tq"
   },
   "outputs": [],
   "source": [
    "from langchain_pinecone import PineconeVectorStore\n",
    "from pinecone import Pinecone\n",
    "\n",
    "pc = Pinecone(api_key=pinecone_api_key)\n",
    "index = pc.Index(\"regulamento\")\n",
    "\n",
    "vector_store = PineconeVectorStore(embedding=embeddings, index=index)"
   ]
  },
  {
   "cell_type": "code",
   "execution_count": 80,
   "metadata": {
    "executionInfo": {
     "elapsed": 5,
     "status": "ok",
     "timestamp": 1737264603075,
     "user": {
      "displayName": "Ana Catarina Gonçalves",
      "userId": "15280139643636798814"
     },
     "user_tz": 180
    },
    "id": "-5JsRMfhCfgL"
   },
   "outputs": [],
   "source": [
    "from langchain.docstore.document import Document\n",
    "\n",
    "# Converte os textos em objetos Document\n",
    "documents = [Document(page_content=text) for text in chunks]"
   ]
  },
  {
   "cell_type": "code",
   "execution_count": 81,
   "metadata": {
    "executionInfo": {
     "elapsed": 12806,
     "status": "ok",
     "timestamp": 1737264633400,
     "user": {
      "displayName": "Ana Catarina Gonçalves",
      "userId": "15280139643636798814"
     },
     "user_tz": 180
    },
    "id": "fbH-82dnCkhM"
   },
   "outputs": [],
   "source": [
    "document_ids = vector_store.add_documents(documents=documents)"
   ]
  }
 ],
 "metadata": {
  "colab": {
   "authorship_tag": "ABX9TyP4V/WwCZtrpa4KNW+maXrH",
   "provenance": []
  },
  "kernelspec": {
   "display_name": "Python 3",
   "name": "python3"
  },
  "language_info": {
   "name": "python"
  }
 },
 "nbformat": 4,
 "nbformat_minor": 0
}
